{
  "nbformat": 4,
  "nbformat_minor": 0,
  "metadata": {
    "colab": {
      "provenance": [],
      "authorship_tag": "ABX9TyP1Fnk3YPBx+b2dbChebJrV",
      "include_colab_link": true
    },
    "kernelspec": {
      "name": "python3",
      "display_name": "Python 3"
    },
    "language_info": {
      "name": "python"
    }
  },
  "cells": [
    {
      "cell_type": "markdown",
      "metadata": {
        "id": "view-in-github",
        "colab_type": "text"
      },
      "source": [
        "<a href=\"https://colab.research.google.com/github/PetchLoh/Data_Projects/blob/main/Rock_Paper_Scissors.ipynb\" target=\"_parent\"><img src=\"https://colab.research.google.com/assets/colab-badge.svg\" alt=\"Open In Colab\"/></a>"
      ]
    },
    {
      "cell_type": "markdown",
      "source": [
        "## ROCK PAPAER SCISSORS Game"
      ],
      "metadata": {
        "id": "sQQB2SVvft6P"
      }
    },
    {
      "cell_type": "code",
      "source": [
        "import random\n",
        "\n",
        "def play():\n",
        "    actions = [\"Rock\", \"Paper\", \"Scissors\"]\n",
        "    score = [0, 0, 0] # win, lose, draw\n",
        "    while True:\n",
        "        player = int(input(\"Please choose your move : [1]Rock, [2]Paper, [3]Scissors, [4]Exit: \"))\n",
        "        if player > 4 or player < 1:\n",
        "           print(\"Don't have in a choices please try again\")\n",
        "\n",
        "        elif player == 4:\n",
        "            print(\"Thank you for playing!!\")\n",
        "            score = [0, 0, 0]\n",
        "            break\n",
        "        else:\n",
        "            action = actions[player-1]\n",
        "            com = random.randint(0, 2)\n",
        "\n",
        "            if player == com:\n",
        "                print(\"Draw\")\n",
        "                score[2] += 1\n",
        "            elif player == \"Rock\" and com == \"Scissors\":\n",
        "                print(\"You win\")\n",
        "                score[0] += 1\n",
        "            elif player == \"Paper\" and com == \"Rock\":\n",
        "                print(\"You win\")\n",
        "                score[0] += 1\n",
        "            elif player == \"Scissors\" and com == \"Paper\":\n",
        "                print(\"You win\")\n",
        "                score[0] += 1\n",
        "            else:\n",
        "                print(\"You lose\")\n",
        "                score[1] += 1\n",
        "        \n",
        "        print(f\"ROUND: {sum(score)}\")\n",
        "        print(f\"Player move: {action}\")\n",
        "        print(f\"Com move: {actions[com-1]}\")\n",
        "        print(f\"Result Win: {score[0]}  Loss: {score[1]}  Tie: {score[2]}\")\n",
        "  "
      ],
      "metadata": {
        "id": "agZJwh0nf1i5"
      },
      "execution_count": null,
      "outputs": []
    },
    {
      "cell_type": "code",
      "source": [
        "play()"
      ],
      "metadata": {
        "colab": {
          "base_uri": "https://localhost:8080/"
        },
        "id": "CiCzS0i8qfZv",
        "outputId": "827eef74-c282-4ee8-e9c0-bb856a7b1604"
      },
      "execution_count": null,
      "outputs": [
        {
          "output_type": "stream",
          "name": "stdout",
          "text": [
            "Please choose your move : [1]Rock, [2]Paper, [3]Scissors, [4]Exit: 1\n",
            "You lose\n",
            "ROUND: 1\n",
            "Player move: Rock\n",
            "Com move: Scissors\n",
            "Result Win: 0  Loss: 1  Tie: 0\n",
            "Please choose your move : [1]Rock, [2]Paper, [3]Scissors, [4]Exit: 3\n",
            "You lose\n",
            "ROUND: 2\n",
            "Player move: Scissors\n",
            "Com move: Paper\n",
            "Result Win: 0  Loss: 2  Tie: 0\n",
            "Please choose your move : [1]Rock, [2]Paper, [3]Scissors, [4]Exit: 4\n",
            "Thank you for playing!!\n"
          ]
        }
      ]
    }
  ]
}