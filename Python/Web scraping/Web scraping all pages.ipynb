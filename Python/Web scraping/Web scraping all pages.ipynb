{
 "cells": [
  {
   "cell_type": "code",
   "execution_count": 145,
   "id": "1a188c42",
   "metadata": {},
   "outputs": [],
   "source": [
    "import pandas as pd\n",
    "import requests\n",
    "import bs4"
   ]
  },
  {
   "cell_type": "code",
   "execution_count": 134,
   "id": "d10735c7",
   "metadata": {},
   "outputs": [],
   "source": [
    "# create pages\n",
    "page_list = ['https://www.checkraka.com/car/?quicksearch_order=update,DESC']\n",
    "for i in range(2,98):\n",
    "    page_list.append(f\"https://www.checkraka.com/car/?quicksearch_order=update%2CDESC&page={i}\")"
   ]
  },
  {
   "cell_type": "code",
   "execution_count": 135,
   "id": "e865640a",
   "metadata": {
    "scrolled": false
   },
   "outputs": [],
   "source": [
    "# request data\n",
    "data_list = []\n",
    "data_dict = dict()\n",
    "\n",
    "for page in page_list:\n",
    "    data = requests.get(page)\n",
    "    soup = bs4.BeautifulSoup(data.text)\n",
    "    all_cars = soup.find_all(\"div\", {\"class\":\"content c158\"})\n",
    "    \n",
    "    for car in all_cars:\n",
    "        first_ul = car.find_all('ul', recursive = False)[0] \n",
    "        second_li = first_ul.find_all('li', recursive = False)[1]\n",
    "        data_ul = second_li.find_all('ul', recursive = False)[0]\n",
    "        all_li = data_ul.find_all('li', recursive = False)\n",
    "            \n",
    "        for data_li in all_li:\n",
    "            data_title = data_li.find('div', {'class': 'title'}).text\n",
    "            data_data = data_li.find('div', {'class': 'data'}).text.strip()\n",
    "            data_dict[data_title] = data_data\n",
    "       \n",
    "        data_list.append(data_dict)\n",
    "        "
   ]
  },
  {
   "cell_type": "code",
   "execution_count": 140,
   "id": "44351cd6",
   "metadata": {},
   "outputs": [],
   "source": [
    "data_df = pd.DataFrame(data_list)"
   ]
  },
  {
   "cell_type": "code",
   "execution_count": 144,
   "id": "a3b555df",
   "metadata": {},
   "outputs": [
    {
     "name": "stdout",
     "output_type": "stream",
     "text": [
      "<class 'pandas.core.frame.DataFrame'>\n",
      "RangeIndex: 966 entries, 0 to 965\n",
      "Data columns (total 8 columns):\n",
      " #   Column           Non-Null Count  Dtype \n",
      "---  ------           --------------  ----- \n",
      " 0   ยี่ห้อ-รุ่น      966 non-null    object\n",
      " 1   ยี่ห้อ           966 non-null    object\n",
      " 2   ประเภท           966 non-null    object\n",
      " 3   เชื้อเพลิง       966 non-null    object\n",
      " 4   ขนาดเครื่องยนต์  966 non-null    object\n",
      " 5   รุ่นเครื่องยนต์  966 non-null    object\n",
      " 6   ระบบขับเคลื่อน   966 non-null    object\n",
      " 7   ระบบเกียร์       966 non-null    object\n",
      "dtypes: object(8)\n",
      "memory usage: 60.5+ KB\n"
     ]
    }
   ],
   "source": [
    "data_df.info()"
   ]
  }
 ],
 "metadata": {
  "kernelspec": {
   "display_name": "Python 3 (ipykernel)",
   "language": "python",
   "name": "python3"
  },
  "language_info": {
   "codemirror_mode": {
    "name": "ipython",
    "version": 3
   },
   "file_extension": ".py",
   "mimetype": "text/x-python",
   "name": "python",
   "nbconvert_exporter": "python",
   "pygments_lexer": "ipython3",
   "version": "3.9.12"
  }
 },
 "nbformat": 4,
 "nbformat_minor": 5
}
