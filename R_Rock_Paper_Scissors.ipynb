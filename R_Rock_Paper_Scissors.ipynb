{
  "nbformat": 4,
  "nbformat_minor": 0,
  "metadata": {
    "colab": {
      "provenance": [],
      "authorship_tag": "ABX9TyN8dxizV35mBFevvBnMfCKx",
      "include_colab_link": true
    },
    "kernelspec": {
      "name": "ir",
      "display_name": "R"
    },
    "language_info": {
      "name": "R"
    }
  },
  "cells": [
    {
      "cell_type": "markdown",
      "metadata": {
        "id": "view-in-github",
        "colab_type": "text"
      },
      "source": [
        "<a href=\"https://colab.research.google.com/github/PetchLoh/Data_Projects/blob/main/R_Rock_Paper_Scissors.ipynb\" target=\"_parent\"><img src=\"https://colab.research.google.com/assets/colab-badge.svg\" alt=\"Open In Colab\"/></a>"
      ]
    },
    {
      "cell_type": "code",
      "execution_count": 1,
      "metadata": {
        "id": "5ku5WehZJd2E"
      },
      "outputs": [],
      "source": [
        "play <- function() {\n",
        "  moves <- c(\"Rock\", \"Paper\", \"Scissors\", \"Exit\")\n",
        "  summary <- c(\"Win\", \"Loss\", \"Tie\")\n",
        "  scores <- c(0, 0, 0) #win, lose, tie\n",
        "\n",
        "  while(T) {\n",
        "    player <- as.numeric(readline(\"Please choose your move (Enter a number) : [1]Rock, [2]Paper, [3]Scissors, [4]Exit: \" ))\n",
        "\n",
        "    if(player == 1 | player == 2 | player == 3 | player == 4 ) {\n",
        "\n",
        "       if(player == 4) {\n",
        "          message(\"Thank you for playing!!\")\n",
        "          df = data.frame(summary, scores)\n",
        "          print(df, row.names = FALSE)\n",
        "          scores <- scores - scores\n",
        "          break   \n",
        "        }\n",
        "        \n",
        "        player <- moves[player]\n",
        "        com <- moves[sample(1:3, 1)]\n",
        "        \n",
        "        if(player == com) {\n",
        "          scores[3] <- scores[3] + 1\n",
        "          result = \"Tie\"\n",
        "        } else if(player == \"Rock\" & com == \"Scissors\" | \n",
        "                  player == \"Paper\" & com == \"Rock\" |\n",
        "                  player == \"Scissors\" & com == \"Paper\") {\n",
        "          scores[1] <- scores[1] + 1\n",
        "          result = \"Win\"\n",
        "        } else {\n",
        "          scores[2] <- scores[2] + 1\n",
        "          result = \"Loss\"\n",
        "        }\n",
        "\n",
        "        message(\"Round: \", sum(scores),\n",
        "                \"\\nPlayer move: \", player,\n",
        "                \"\\nCom move: \", com,\n",
        "                \"\\nResult: You \", result,\n",
        "                \"\\nScores Win: \", scores[1], \" Loss: \", scores[2], \" Tie: \", scores[3])\n",
        "\n",
        "    } else {\n",
        "      message(\"Invalid input, please try again\")\n",
        "    }\n",
        "  }\n",
        "}\n"
      ]
    },
    {
      "cell_type": "code",
      "source": [
        "play()"
      ],
      "metadata": {
        "colab": {
          "base_uri": "https://localhost:8080/"
        },
        "id": "pK5gsm2NJjSK",
        "outputId": "2e7883b7-2d16-4539-9b91-9de4534007c5"
      },
      "execution_count": 3,
      "outputs": [
        {
          "name": "stdout",
          "output_type": "stream",
          "text": [
            "Please choose your move (Enter a number) : [1]Rock, [2]Paper, [3]Scissors, [4]Exit: 1\n"
          ]
        },
        {
          "output_type": "stream",
          "name": "stderr",
          "text": [
            "Round: 1\n",
            "Player move: Rock\n",
            "Com move: Paper\n",
            "Result: You Loss\n",
            "Scores Win: 0 Loss: 1 Tie: 0\n",
            "\n"
          ]
        },
        {
          "name": "stdout",
          "output_type": "stream",
          "text": [
            "Please choose your move (Enter a number) : [1]Rock, [2]Paper, [3]Scissors, [4]Exit: 3\n"
          ]
        },
        {
          "output_type": "stream",
          "name": "stderr",
          "text": [
            "Round: 2\n",
            "Player move: Scissors\n",
            "Com move: Scissors\n",
            "Result: You Tie\n",
            "Scores Win: 0 Loss: 1 Tie: 1\n",
            "\n"
          ]
        },
        {
          "name": "stdout",
          "output_type": "stream",
          "text": [
            "Please choose your move (Enter a number) : [1]Rock, [2]Paper, [3]Scissors, [4]Exit: 5\n"
          ]
        },
        {
          "output_type": "stream",
          "name": "stderr",
          "text": [
            "Invalid input, please try again\n",
            "\n"
          ]
        },
        {
          "name": "stdout",
          "output_type": "stream",
          "text": [
            "Please choose your move (Enter a number) : [1]Rock, [2]Paper, [3]Scissors, [4]Exit: 4\n"
          ]
        },
        {
          "output_type": "stream",
          "name": "stderr",
          "text": [
            "Thank you for playing!!\n",
            "\n"
          ]
        },
        {
          "output_type": "stream",
          "name": "stdout",
          "text": [
            " summary scores\n",
            "     Win      0\n",
            "    Loss      1\n",
            "     Tie      1\n"
          ]
        }
      ]
    }
  ]
}